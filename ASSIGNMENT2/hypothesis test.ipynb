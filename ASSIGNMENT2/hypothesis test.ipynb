{
 "cells": [
  {
   "cell_type": "code",
   "execution_count": 1,
   "id": "60fb7a2c-1d20-44b2-b8cf-3a0d6ea68cd7",
   "metadata": {},
   "outputs": [
    {
     "name": "stdout",
     "output_type": "stream",
     "text": [
      "Test Statistic: -38.00\n",
      "Critical Value: 1.64\n",
      "Decision: Fail to reject the null hypothesis\n"
     ]
    }
   ],
   "source": [
    "import numpy as np\n",
    "from scipy.stats import norm\n",
    "\n",
    "# Given data\n",
    "sample_mean = 3050  # Rs.\n",
    "theoretical_mean = 4000  # Rs.\n",
    "std_dev_units = 25  # units\n",
    "cost_per_unit = 5  # Rs per unit\n",
    "sample_size = 25\n",
    "\n",
    "# Calculate the standard deviation of the weekly cost\n",
    "std_dev_cost = cost_per_unit * std_dev_units  # Rs.\n",
    "\n",
    "# Calculate the standard error of the mean\n",
    "standard_error = std_dev_cost / np.sqrt(sample_size)\n",
    "\n",
    "# Calculate the test statistic\n",
    "test_statistic = (sample_mean - theoretical_mean) / standard_error\n",
    "\n",
    "# Alpha level and critical value for one-tailed test\n",
    "alpha = 0.05\n",
    "critical_value = norm.ppf(1 - alpha)\n",
    "\n",
    "# Make a decision based on the test statistic and critical value\n",
    "decision = \"Reject the null hypothesis\" if test_statistic > critical_value else \"Fail to reject the null hypothesis\"\n",
    "\n",
    "# Print results\n",
    "print(f\"Test Statistic: {test_statistic:.2f}\")\n",
    "print(f\"Critical Value: {critical_value:.2f}\")\n",
    "print(f\"Decision: {decision}\")\n"
   ]
  },
  {
   "cell_type": "code",
   "execution_count": null,
   "id": "8c7deff0-a3f5-46da-b1eb-16443a381fac",
   "metadata": {},
   "outputs": [],
   "source": []
  },
  {
   "cell_type": "code",
   "execution_count": null,
   "id": "48ea5b94-d3dd-4d89-93b4-869caa7ed5ba",
   "metadata": {},
   "outputs": [],
   "source": []
  }
 ],
 "metadata": {
  "kernelspec": {
   "display_name": "Python 3 (ipykernel)",
   "language": "python",
   "name": "python3"
  },
  "language_info": {
   "codemirror_mode": {
    "name": "ipython",
    "version": 3
   },
   "file_extension": ".py",
   "mimetype": "text/x-python",
   "name": "python",
   "nbconvert_exporter": "python",
   "pygments_lexer": "ipython3",
   "version": "3.11.7"
  }
 },
 "nbformat": 4,
 "nbformat_minor": 5
}
