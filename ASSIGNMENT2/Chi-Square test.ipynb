{
 "cells": [
  {
   "cell_type": "code",
   "execution_count": 1,
   "id": "7ed61e28-83b6-4a06-a129-5a16de2b41a4",
   "metadata": {},
   "outputs": [
    {
     "data": {
      "text/plain": [
       "5.638227513227513"
      ]
     },
     "execution_count": 1,
     "metadata": {},
     "output_type": "execute_result"
    }
   ],
   "source": [
    "import numpy as np\n",
    "from scipy.stats import chi2\n",
    "\n",
    "# Observed frequency table\n",
    "observed = np.array([[50, 70],\n",
    "                     [80, 100],\n",
    "                     [60, 90],\n",
    "                     [30, 50],\n",
    "                     [20, 50]])\n",
    "\n",
    "# Totals\n",
    "row_totals = observed.sum(axis=1)\n",
    "col_totals = observed.sum(axis=0)\n",
    "grand_total = observed.sum()\n",
    "\n",
    "# Expected frequency table\n",
    "expected = np.outer(row_totals, col_totals) / grand_total\n",
    "\n",
    "# Chi-Square statistic calculation\n",
    "chi2_stat = ((observed - expected) ** 2 / expected).sum()\n",
    "\n",
    "chi2_stat\n"
   ]
  },
  {
   "cell_type": "code",
   "execution_count": 2,
   "id": "b692224d-447c-4475-a15c-1208f9936470",
   "metadata": {},
   "outputs": [
    {
     "data": {
      "text/plain": [
       "9.487729036781154"
      ]
     },
     "execution_count": 2,
     "metadata": {},
     "output_type": "execute_result"
    }
   ],
   "source": [
    "# Critical value for alpha = 0.05 and df = 4\n",
    "alpha = 0.05\n",
    "df = 4\n",
    "critical_value = chi2.ppf(1 - alpha, df)\n",
    "\n",
    "critical_value\n"
   ]
  },
  {
   "cell_type": "code",
   "execution_count": 3,
   "id": "c59f790a-e9be-4983-b9bd-db594a3ac8a2",
   "metadata": {},
   "outputs": [
    {
     "data": {
      "text/plain": [
       "'Fail to reject the null hypothesis'"
      ]
     },
     "execution_count": 3,
     "metadata": {},
     "output_type": "execute_result"
    }
   ],
   "source": [
    "if chi2_stat > critical_value:\n",
    "    decision = \"Reject the null hypothesis\"\n",
    "else:\n",
    "    decision = \"Fail to reject the null hypothesis\"\n",
    "\n",
    "decision\n"
   ]
  },
  {
   "cell_type": "code",
   "execution_count": 4,
   "id": "9ab51d81-f3e0-4a5c-8b2d-943c8d7ae3b0",
   "metadata": {},
   "outputs": [
    {
     "data": {
      "text/plain": [
       "(5.638227513227513, 9.487729036781154, 'Fail to reject the null hypothesis')"
      ]
     },
     "execution_count": 4,
     "metadata": {},
     "output_type": "execute_result"
    }
   ],
   "source": [
    "import numpy as np\n",
    "from scipy.stats import chi2\n",
    "\n",
    "# Observed frequency table\n",
    "observed = np.array([[50, 70],\n",
    "                     [80, 100],\n",
    "                     [60, 90],\n",
    "                     [30, 50],\n",
    "                     [20, 50]])\n",
    "\n",
    "# Totals\n",
    "row_totals = observed.sum(axis=1)\n",
    "col_totals = observed.sum(axis=0)\n",
    "grand_total = observed.sum()\n",
    "\n",
    "# Expected frequency table\n",
    "expected = np.outer(row_totals, col_totals) / grand_total\n",
    "\n",
    "# Chi-Square statistic calculation\n",
    "chi2_stat = ((observed - expected) ** 2 / expected).sum()\n",
    "\n",
    "# Degrees of Freedom\n",
    "df = (observed.shape[0] - 1) * (observed.shape[1] - 1)\n",
    "\n",
    "# Critical value for alpha = 0.05 and df = 4\n",
    "alpha = 0.05\n",
    "critical_value = chi2.ppf(1 - alpha, df)\n",
    "\n",
    "# Make a decision\n",
    "decision = \"Reject the null hypothesis\" if chi2_stat > critical_value else \"Fail to reject the null hypothesis\"\n",
    "\n",
    "chi2_stat, critical_value, decision\n"
   ]
  },
  {
   "cell_type": "code",
   "execution_count": null,
   "id": "95d8b846-8223-4f50-b346-5353d814ead6",
   "metadata": {},
   "outputs": [],
   "source": []
  }
 ],
 "metadata": {
  "kernelspec": {
   "display_name": "Python 3 (ipykernel)",
   "language": "python",
   "name": "python3"
  },
  "language_info": {
   "codemirror_mode": {
    "name": "ipython",
    "version": 3
   },
   "file_extension": ".py",
   "mimetype": "text/x-python",
   "name": "python",
   "nbconvert_exporter": "python",
   "pygments_lexer": "ipython3",
   "version": "3.11.7"
  }
 },
 "nbformat": 4,
 "nbformat_minor": 5
}
